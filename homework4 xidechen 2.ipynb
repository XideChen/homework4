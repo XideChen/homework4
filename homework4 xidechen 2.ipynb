{
 "cells": [
  {
   "cell_type": "markdown",
   "metadata": {},
   "source": [
    "# Unsupervised Machine Learning"
   ]
  },
  {
   "cell_type": "markdown",
   "metadata": {},
   "source": [
    "## Reading Data"
   ]
  },
  {
   "cell_type": "code",
   "execution_count": 34,
   "metadata": {},
   "outputs": [],
   "source": [
    "from sklearn.decomposition import PCA\n",
    "import pandas as pd\n",
    "import matplotlib.pyplot as plt\n",
    "from sklearn.preprocessing import StandardScaler"
   ]
  },
  {
   "cell_type": "code",
   "execution_count": 18,
   "metadata": {},
   "outputs": [],
   "source": []
  },
  {
   "cell_type": "code",
   "execution_count": 8,
   "metadata": {},
   "outputs": [],
   "source": [
    "df = pd.read_csv(\"dairy_bull_data.csv\")\n",
    "df=df.set_index(['breed',\"country_of_origin\"])"
   ]
  },
  {
   "cell_type": "code",
   "execution_count": 9,
   "metadata": {},
   "outputs": [
    {
     "data": {
      "text/html": [
       "<div>\n",
       "<style scoped>\n",
       "    .dataframe tbody tr th:only-of-type {\n",
       "        vertical-align: middle;\n",
       "    }\n",
       "\n",
       "    .dataframe tbody tr th {\n",
       "        vertical-align: top;\n",
       "    }\n",
       "\n",
       "    .dataframe thead th {\n",
       "        text-align: right;\n",
       "    }\n",
       "</style>\n",
       "<table border=\"1\" class=\"dataframe\">\n",
       "  <thead>\n",
       "    <tr style=\"text-align: right;\">\n",
       "      <th></th>\n",
       "      <th></th>\n",
       "      <th>sire_code</th>\n",
       "      <th>period</th>\n",
       "      <th>price</th>\n",
       "      <th>birth_date</th>\n",
       "      <th>pta_milk</th>\n",
       "      <th>pta_fat_lb</th>\n",
       "      <th>pta_scs</th>\n",
       "      <th>pta_protein_lb</th>\n",
       "      <th>pta_dpr</th>\n",
       "    </tr>\n",
       "    <tr>\n",
       "      <th>breed</th>\n",
       "      <th>country_of_origin</th>\n",
       "      <th></th>\n",
       "      <th></th>\n",
       "      <th></th>\n",
       "      <th></th>\n",
       "      <th></th>\n",
       "      <th></th>\n",
       "      <th></th>\n",
       "      <th></th>\n",
       "      <th></th>\n",
       "    </tr>\n",
       "  </thead>\n",
       "  <tbody>\n",
       "    <tr>\n",
       "      <th rowspan=\"4\" valign=\"top\">AY</th>\n",
       "      <th>CAN</th>\n",
       "      <td>18491</td>\n",
       "      <td>2000-02-01</td>\n",
       "      <td>12.0</td>\n",
       "      <td>1991-10-20</td>\n",
       "      <td>1124.0</td>\n",
       "      <td>41.0</td>\n",
       "      <td>3.32</td>\n",
       "      <td>32.0</td>\n",
       "      <td>NaN</td>\n",
       "    </tr>\n",
       "    <tr>\n",
       "      <th>CAN</th>\n",
       "      <td>18493</td>\n",
       "      <td>2000-02-01</td>\n",
       "      <td>18.0</td>\n",
       "      <td>1992-06-15</td>\n",
       "      <td>1664.0</td>\n",
       "      <td>44.0</td>\n",
       "      <td>2.92</td>\n",
       "      <td>35.0</td>\n",
       "      <td>NaN</td>\n",
       "    </tr>\n",
       "    <tr>\n",
       "      <th>CAN</th>\n",
       "      <td>18697</td>\n",
       "      <td>2000-02-01</td>\n",
       "      <td>12.0</td>\n",
       "      <td>1992-05-30</td>\n",
       "      <td>939.0</td>\n",
       "      <td>45.0</td>\n",
       "      <td>2.87</td>\n",
       "      <td>27.0</td>\n",
       "      <td>NaN</td>\n",
       "    </tr>\n",
       "    <tr>\n",
       "      <th>CAN</th>\n",
       "      <td>18696</td>\n",
       "      <td>2000-02-01</td>\n",
       "      <td>12.0</td>\n",
       "      <td>1992-06-25</td>\n",
       "      <td>660.0</td>\n",
       "      <td>30.0</td>\n",
       "      <td>3.28</td>\n",
       "      <td>21.0</td>\n",
       "      <td>NaN</td>\n",
       "    </tr>\n",
       "  </tbody>\n",
       "</table>\n",
       "</div>"
      ],
      "text/plain": [
       "                         sire_code      period  price  birth_date  pta_milk  \\\n",
       "breed country_of_origin                                                       \n",
       "AY    CAN                    18491  2000-02-01   12.0  1991-10-20    1124.0   \n",
       "      CAN                    18493  2000-02-01   18.0  1992-06-15    1664.0   \n",
       "      CAN                    18697  2000-02-01   12.0  1992-05-30     939.0   \n",
       "      CAN                    18696  2000-02-01   12.0  1992-06-25     660.0   \n",
       "\n",
       "                         pta_fat_lb  pta_scs  pta_protein_lb  pta_dpr  \n",
       "breed country_of_origin                                                \n",
       "AY    CAN                      41.0     3.32            32.0      NaN  \n",
       "      CAN                      44.0     2.92            35.0      NaN  \n",
       "      CAN                      45.0     2.87            27.0      NaN  \n",
       "      CAN                      30.0     3.28            21.0      NaN  "
      ]
     },
     "execution_count": 9,
     "metadata": {},
     "output_type": "execute_result"
    }
   ],
   "source": [
    "df.head(4)"
   ]
  },
  {
   "cell_type": "code",
   "execution_count": 10,
   "metadata": {},
   "outputs": [
    {
     "data": {
      "text/plain": [
       "(167037, 9)"
      ]
     },
     "execution_count": 10,
     "metadata": {},
     "output_type": "execute_result"
    }
   ],
   "source": [
    "df.shape"
   ]
  },
  {
   "cell_type": "code",
   "execution_count": 11,
   "metadata": {},
   "outputs": [
    {
     "name": "stderr",
     "output_type": "stream",
     "text": [
      "C:\\Users\\fxx\\AppData\\Local\\Temp\\ipykernel_16276\\2710578060.py:2: FutureWarning: Dropping of nuisance columns in DataFrame reductions (with 'numeric_only=None') is deprecated; in a future version this will raise TypeError.  Select only valid columns before calling the reduction.\n",
      "  datas_std = (datas - datas.mean())/datas.std()\n"
     ]
    }
   ],
   "source": [
    "datas=df\n",
    "datas_std = (datas - datas.mean())/datas.std()"
   ]
  },
  {
   "cell_type": "code",
   "execution_count": 13,
   "metadata": {},
   "outputs": [
    {
     "data": {
      "text/html": [
       "<div>\n",
       "<style scoped>\n",
       "    .dataframe tbody tr th:only-of-type {\n",
       "        vertical-align: middle;\n",
       "    }\n",
       "\n",
       "    .dataframe tbody tr th {\n",
       "        vertical-align: top;\n",
       "    }\n",
       "\n",
       "    .dataframe thead th {\n",
       "        text-align: right;\n",
       "    }\n",
       "</style>\n",
       "<table border=\"1\" class=\"dataframe\">\n",
       "  <thead>\n",
       "    <tr style=\"text-align: right;\">\n",
       "      <th></th>\n",
       "      <th></th>\n",
       "      <th>birth_date</th>\n",
       "      <th>period</th>\n",
       "      <th>price</th>\n",
       "      <th>pta_dpr</th>\n",
       "      <th>pta_fat_lb</th>\n",
       "      <th>pta_milk</th>\n",
       "      <th>pta_protein_lb</th>\n",
       "      <th>pta_scs</th>\n",
       "      <th>sire_code</th>\n",
       "    </tr>\n",
       "    <tr>\n",
       "      <th>breed</th>\n",
       "      <th>country_of_origin</th>\n",
       "      <th></th>\n",
       "      <th></th>\n",
       "      <th></th>\n",
       "      <th></th>\n",
       "      <th></th>\n",
       "      <th></th>\n",
       "      <th></th>\n",
       "      <th></th>\n",
       "      <th></th>\n",
       "    </tr>\n",
       "  </thead>\n",
       "  <tbody>\n",
       "    <tr>\n",
       "      <th rowspan=\"4\" valign=\"top\">AY</th>\n",
       "      <th>CAN</th>\n",
       "      <td>NaN</td>\n",
       "      <td>NaN</td>\n",
       "      <td>-0.727975</td>\n",
       "      <td>NaN</td>\n",
       "      <td>-1.472935</td>\n",
       "      <td>-1.401275</td>\n",
       "      <td>-1.783170</td>\n",
       "      <td>1.218670</td>\n",
       "      <td>1.007704</td>\n",
       "    </tr>\n",
       "    <tr>\n",
       "      <th>CAN</th>\n",
       "      <td>NaN</td>\n",
       "      <td>NaN</td>\n",
       "      <td>-0.376554</td>\n",
       "      <td>NaN</td>\n",
       "      <td>-1.398881</td>\n",
       "      <td>-0.843220</td>\n",
       "      <td>-1.684505</td>\n",
       "      <td>-0.663409</td>\n",
       "      <td>1.008007</td>\n",
       "    </tr>\n",
       "    <tr>\n",
       "      <th>CAN</th>\n",
       "      <td>NaN</td>\n",
       "      <td>NaN</td>\n",
       "      <td>-0.727975</td>\n",
       "      <td>NaN</td>\n",
       "      <td>-1.374197</td>\n",
       "      <td>-1.592461</td>\n",
       "      <td>-1.947611</td>\n",
       "      <td>-0.898669</td>\n",
       "      <td>1.038877</td>\n",
       "    </tr>\n",
       "    <tr>\n",
       "      <th>CAN</th>\n",
       "      <td>NaN</td>\n",
       "      <td>NaN</td>\n",
       "      <td>-0.727975</td>\n",
       "      <td>NaN</td>\n",
       "      <td>-1.744464</td>\n",
       "      <td>-1.880790</td>\n",
       "      <td>-2.144941</td>\n",
       "      <td>1.030462</td>\n",
       "      <td>1.038726</td>\n",
       "    </tr>\n",
       "  </tbody>\n",
       "</table>\n",
       "</div>"
      ],
      "text/plain": [
       "                        birth_date period     price  pta_dpr  pta_fat_lb  \\\n",
       "breed country_of_origin                                                    \n",
       "AY    CAN                      NaN    NaN -0.727975      NaN   -1.472935   \n",
       "      CAN                      NaN    NaN -0.376554      NaN   -1.398881   \n",
       "      CAN                      NaN    NaN -0.727975      NaN   -1.374197   \n",
       "      CAN                      NaN    NaN -0.727975      NaN   -1.744464   \n",
       "\n",
       "                         pta_milk  pta_protein_lb   pta_scs  sire_code  \n",
       "breed country_of_origin                                                 \n",
       "AY    CAN               -1.401275       -1.783170  1.218670   1.007704  \n",
       "      CAN               -0.843220       -1.684505 -0.663409   1.008007  \n",
       "      CAN               -1.592461       -1.947611 -0.898669   1.038877  \n",
       "      CAN               -1.880790       -2.144941  1.030462   1.038726  "
      ]
     },
     "execution_count": 13,
     "metadata": {},
     "output_type": "execute_result"
    }
   ],
   "source": [
    "datas_std.head(4)"
   ]
  },
  {
   "cell_type": "code",
   "execution_count": 65,
   "metadata": {},
   "outputs": [],
   "source": [
    "K=9\n",
    "pca_model = PCA(n_components=K)\n",
    "pca_model = pca_model.fit(datas_std.fillna(0)) \n",
    "#pca_model.transform(assets_std.fillna(0))"
   ]
  },
  {
   "cell_type": "code",
   "execution_count": 23,
   "metadata": {},
   "outputs": [
    {
     "data": {
      "text/plain": [
       "array([4.61635929e-01, 1.69468666e-01, 1.51781561e-01, 8.97190676e-02,\n",
       "       8.22314252e-02, 3.80639341e-02, 7.09941692e-03, 6.28205334e-35,\n",
       "       0.00000000e+00])"
      ]
     },
     "execution_count": 23,
     "metadata": {},
     "output_type": "execute_result"
    }
   ],
   "source": [
    "pca_model.explained_variance_ratio_"
   ]
  },
  {
   "cell_type": "code",
   "execution_count": 26,
   "metadata": {},
   "outputs": [
    {
     "data": {
      "image/png": "[encoded data removed]",
      "text/plain": [
       "<Figure size 432x288 with 1 Axes>"
      ]
     },
     "metadata": {
      "needs_background": "light"
     },
     "output_type": "display_data"
    }
   ],
   "source": [
    "plt.plot(list(range(1,K+1)),pca_model.explained_variance_ratio_.cumsum());\n",
    "plt.xlabel('Numbers of components');\n",
    "plt.ylabel('Explained variance (Cumulative)');"
   ]
  },
  {
   "cell_type": "code",
   "execution_count": 27,
   "metadata": {},
   "outputs": [
    {
     "data": {
      "text/plain": [
       "array([3.01270258e+00, 1.10597693e+00, 9.90548333e-01, 5.85519560e-01,\n",
       "       5.36654128e-01, 2.48410718e-01, 4.63318176e-02, 4.09975851e-34,\n",
       "       0.00000000e+00])"
      ]
     },
     "execution_count": 27,
     "metadata": {},
     "output_type": "execute_result"
    }
   ],
   "source": [
    "pca_model.explained_variance_"
   ]
  },
  {
   "cell_type": "code",
   "execution_count": 28,
   "metadata": {},
   "outputs": [
    {
     "data": {
      "image/png": "[encoded data removed]",
      "text/plain": [
       "<Figure size 432x288 with 1 Axes>"
      ]
     },
     "metadata": {
      "needs_background": "light"
     },
     "output_type": "display_data"
    }
   ],
   "source": [
    "plt.plot(list(range(1,K+1)),pca_model.explained_variance_);\n",
    "plt.axhline(1,ls=\"--\",color='black');\n",
    "plt.xlabel('Numbers of components');\n",
    "plt.ylabel('Eigen Values');"
   ]
  },
  {
   "cell_type": "code",
   "execution_count": 29,
   "metadata": {},
   "outputs": [],
   "source": [
    "K = 6\n",
    "pca_model = PCA(n_components=K)\n",
    "pca_model = pca_model.fit(datas_std.fillna(0))"
   ]
  },
  {
   "cell_type": "code",
   "execution_count": 30,
   "metadata": {},
   "outputs": [
    {
     "data": {
      "text/html": [
       "<div>\n",
       "<style scoped>\n",
       "    .dataframe tbody tr th:only-of-type {\n",
       "        vertical-align: middle;\n",
       "    }\n",
       "\n",
       "    .dataframe tbody tr th {\n",
       "        vertical-align: top;\n",
       "    }\n",
       "\n",
       "    .dataframe thead th {\n",
       "        text-align: right;\n",
       "    }\n",
       "</style>\n",
       "<table border=\"1\" class=\"dataframe\">\n",
       "  <thead>\n",
       "    <tr style=\"text-align: right;\">\n",
       "      <th></th>\n",
       "      <th>0</th>\n",
       "      <th>1</th>\n",
       "      <th>2</th>\n",
       "      <th>3</th>\n",
       "      <th>4</th>\n",
       "      <th>5</th>\n",
       "    </tr>\n",
       "  </thead>\n",
       "  <tbody>\n",
       "    <tr>\n",
       "      <th>0</th>\n",
       "      <td>-0.000000e+00</td>\n",
       "      <td>0.000000e+00</td>\n",
       "      <td>0.000000e+00</td>\n",
       "      <td>-0.000000e+00</td>\n",
       "      <td>-0.000000e+00</td>\n",
       "      <td>-0.000000e+00</td>\n",
       "    </tr>\n",
       "    <tr>\n",
       "      <th>1</th>\n",
       "      <td>-1.110223e-16</td>\n",
       "      <td>8.532671e-17</td>\n",
       "      <td>-1.463673e-18</td>\n",
       "      <td>8.276528e-17</td>\n",
       "      <td>-9.019588e-17</td>\n",
       "      <td>-1.792562e-16</td>\n",
       "    </tr>\n",
       "    <tr>\n",
       "      <th>2</th>\n",
       "      <td>1.518950e-01</td>\n",
       "      <td>3.565965e-02</td>\n",
       "      <td>6.630017e-02</td>\n",
       "      <td>3.751201e-01</td>\n",
       "      <td>9.102668e-01</td>\n",
       "      <td>4.416718e-02</td>\n",
       "    </tr>\n",
       "    <tr>\n",
       "      <th>3</th>\n",
       "      <td>1.630085e-01</td>\n",
       "      <td>7.258620e-01</td>\n",
       "      <td>1.267585e-01</td>\n",
       "      <td>5.764424e-01</td>\n",
       "      <td>-3.049067e-01</td>\n",
       "      <td>4.750068e-02</td>\n",
       "    </tr>\n",
       "    <tr>\n",
       "      <th>4</th>\n",
       "      <td>5.196148e-01</td>\n",
       "      <td>-1.691106e-01</td>\n",
       "      <td>3.175798e-03</td>\n",
       "      <td>6.050056e-02</td>\n",
       "      <td>-6.924945e-02</td>\n",
       "      <td>-7.644543e-01</td>\n",
       "    </tr>\n",
       "    <tr>\n",
       "      <th>5</th>\n",
       "      <td>5.226022e-01</td>\n",
       "      <td>-2.277356e-01</td>\n",
       "      <td>-4.485759e-02</td>\n",
       "      <td>-6.974366e-03</td>\n",
       "      <td>-1.046048e-01</td>\n",
       "      <td>6.340803e-01</td>\n",
       "    </tr>\n",
       "    <tr>\n",
       "      <th>6</th>\n",
       "      <td>5.511826e-01</td>\n",
       "      <td>-1.893108e-01</td>\n",
       "      <td>-3.026909e-02</td>\n",
       "      <td>9.183957e-02</td>\n",
       "      <td>-1.220973e-01</td>\n",
       "      <td>9.336450e-02</td>\n",
       "    </tr>\n",
       "    <tr>\n",
       "      <th>7</th>\n",
       "      <td>-3.157700e-01</td>\n",
       "      <td>-5.485523e-01</td>\n",
       "      <td>-2.112547e-01</td>\n",
       "      <td>7.152333e-01</td>\n",
       "      <td>-2.050680e-01</td>\n",
       "      <td>-4.566770e-03</td>\n",
       "    </tr>\n",
       "    <tr>\n",
       "      <th>8</th>\n",
       "      <td>-6.107920e-02</td>\n",
       "      <td>-2.337579e-01</td>\n",
       "      <td>9.653857e-01</td>\n",
       "      <td>5.741931e-02</td>\n",
       "      <td>-7.581538e-02</td>\n",
       "      <td>2.463572e-02</td>\n",
       "    </tr>\n",
       "  </tbody>\n",
       "</table>\n",
       "</div>"
      ],
      "text/plain": [
       "              0             1             2             3             4  \\\n",
       "0 -0.000000e+00  0.000000e+00  0.000000e+00 -0.000000e+00 -0.000000e+00   \n",
       "1 -1.110223e-16  8.532671e-17 -1.463673e-18  8.276528e-17 -9.019588e-17   \n",
       "2  1.518950e-01  3.565965e-02  6.630017e-02  3.751201e-01  9.102668e-01   \n",
       "3  1.630085e-01  7.258620e-01  1.267585e-01  5.764424e-01 -3.049067e-01   \n",
       "4  5.196148e-01 -1.691106e-01  3.175798e-03  6.050056e-02 -6.924945e-02   \n",
       "5  5.226022e-01 -2.277356e-01 -4.485759e-02 -6.974366e-03 -1.046048e-01   \n",
       "6  5.511826e-01 -1.893108e-01 -3.026909e-02  9.183957e-02 -1.220973e-01   \n",
       "7 -3.157700e-01 -5.485523e-01 -2.112547e-01  7.152333e-01 -2.050680e-01   \n",
       "8 -6.107920e-02 -2.337579e-01  9.653857e-01  5.741931e-02 -7.581538e-02   \n",
       "\n",
       "              5  \n",
       "0 -0.000000e+00  \n",
       "1 -1.792562e-16  \n",
       "2  4.416718e-02  \n",
       "3  4.750068e-02  \n",
       "4 -7.644543e-01  \n",
       "5  6.340803e-01  \n",
       "6  9.336450e-02  \n",
       "7 -4.566770e-03  \n",
       "8  2.463572e-02  "
      ]
     },
     "execution_count": 30,
     "metadata": {},
     "output_type": "execute_result"
    }
   ],
   "source": [
    "load_scores = pd.DataFrame(pca_model.components_)\n",
    "load_scores.T"
   ]
  },
  {
   "cell_type": "code",
   "execution_count": 31,
   "metadata": {},
   "outputs": [],
   "source": [
    "#sum(load_scores.T[0]**2)"
   ]
  },
  {
   "cell_type": "code",
   "execution_count": 40,
   "metadata": {},
   "outputs": [],
   "source": [
    "class PCA_Model:\n",
    "    def __init__(self,ncomps,data,cols):\n",
    "        self.ncomps = ncomps\n",
    "        self.cols = cols\n",
    "        self.data = data\n",
    "        self.scaled_data = StandardScaler().fit_transform(data[cols].values)\n",
    "        \n",
    "    def fit(self):\n",
    "        self.PCA_obj = PCA(self.ncomps).fit(self.scaled_data)\n",
    "    \n",
    "    def describe(self):\n",
    "        explvar_ = self.PCA_obj.explained_variance_ratio_\n",
    "\n",
    "        explvar = pd.DataFrame(explvar_[np.newaxis,:]*100,\\\n",
    "                               columns=[\"Component \" + str(x) for x in range(self.ncomps)],\\\n",
    "                               index=[\"% Explained Variance\"])\n",
    "        \n",
    "        loadscores_ = self.PCA_obj.components_\n",
    "        loadscores = pd.DataFrame(loadscores_,\\\n",
    "                                  columns=self.cols,\\\n",
    "                                  index=[\"Component \" + str(x) for x in range(self.ncomps)])\n",
    "        print(\"Explains {0:0.2f}% of the variance\".format(round(sum(explvar_),2)*100))\n",
    "        print(explvar)\n",
    "        print(loadscores)\n",
    "        return explvar,loadscores\n",
    "    \n",
    "    def gen_data(self):\n",
    "        return self.PCA_obj.transform(self.scaled_data)\n",
    "    \n",
    "    def graph(self,alpha=.6):\n",
    "        self.graphdata = pd.concat([self.data[[color]].reset_index(drop=True),\\\n",
    "                                    pd.DataFrame(self.gen_data()).reset_index(drop=True)],axis=1)\n",
    "        if self.ncomps==2:\n",
    "            return self.graphdata.plot(kind=\"scatter\",x=0,y=1,\\\n",
    "                                       c=color,alpha=alpha,colormap=cm)\n",
    "        else:\n",
    "            ax = plt.axes(projection='3d')\n",
    "            ax.scatter3D(self.graphdata[0], \\\n",
    "                         self.graphdata[1], \\\n",
    "                         self.graphdata[2])#, \\\n",
    "                         #c=color,colormap=cm)"
   ]
  },
  {
   "cell_type": "code",
   "execution_count": 61,
   "metadata": {},
   "outputs": [],
   "source": [
    "colus = list(datas.columns)\n",
    "colus.remove('period')\n",
    "colus.remove('birth_date')\n",
    "\n",
    "pca2 = PCA_Model(2,datas.fillna(0),colus)\n",
    "pca2.fit()"
   ]
  },
  {
   "cell_type": "code",
   "execution_count": 62,
   "metadata": {},
   "outputs": [],
   "source": [
    "components=pd.DataFrame(pca2.gen_data())"
   ]
  },
  {
   "cell_type": "code",
   "execution_count": 63,
   "metadata": {},
   "outputs": [
    {
     "data": {
      "image/png": "[encoded data removed]",
      "text/plain": [
       "<Figure size 432x288 with 1 Axes>"
      ]
     },
     "metadata": {
      "needs_background": "light"
     },
     "output_type": "display_data"
    }
   ],
   "source": [
    "plt.scatter(components[0], components[1], s=10, alpha=0.5);\n",
    "plt.xlabel('First Component');\n",
    "plt.ylabel('Second Component');"
   ]
  },
  {
   "cell_type": "code",
   "execution_count": 64,
   "metadata": {},
   "outputs": [
    {
     "ename": "ModuleNotFoundError",
     "evalue": "No module named 'plotly'",
     "output_type": "error",
     "traceback": [
      "\u001b[1;31m---------------------------------------------------------------------------\u001b[0m",
      "\u001b[1;31mModuleNotFoundError\u001b[0m                       Traceback (most recent call last)",
      "Input \u001b[1;32mIn [64]\u001b[0m, in \u001b[0;36m<cell line: 1>\u001b[1;34m()\u001b[0m\n\u001b[1;32m----> 1\u001b[0m \u001b[38;5;28;01mimport\u001b[39;00m \u001b[38;5;21;01mplotly\u001b[39;00m\u001b[38;5;21;01m.\u001b[39;00m\u001b[38;5;21;01mexpress\u001b[39;00m \u001b[38;5;28;01mas\u001b[39;00m \u001b[38;5;21;01mpx\u001b[39;00m\n\u001b[0;32m      2\u001b[0m \u001b[38;5;28;01mfrom\u001b[39;00m \u001b[38;5;21;01msklearn\u001b[39;00m\u001b[38;5;21;01m.\u001b[39;00m\u001b[38;5;21;01mcluster\u001b[39;00m \u001b[38;5;28;01mimport\u001b[39;00m KMeans\n\u001b[0;32m      4\u001b[0m \u001b[38;5;28;01mfrom\u001b[39;00m \u001b[38;5;21;01msklearn\u001b[39;00m\u001b[38;5;21;01m.\u001b[39;00m\u001b[38;5;21;01mmetrics\u001b[39;00m \u001b[38;5;28;01mimport\u001b[39;00m silhouette_samples, silhouette_score\n",
      "\u001b[1;31mModuleNotFoundError\u001b[0m: No module named 'plotly'"
     ]
    }
   ],
   "source": [
    "import plotly.express as px\n",
    "from sklearn.cluster import KMeans\n",
    "\n",
    "from sklearn.metrics import silhouette_samples, silhouette_score\n",
    "from sklearn import datasets\n",
    "from sklearn.datasets.samples_generator import make_blobs"
   ]
  },
  {
   "cell_type": "code",
   "execution_count": null,
   "metadata": {},
   "outputs": [],
   "source": []
  }
 ],
 "metadata": {
  "kernelspec": {
   "display_name": "Python 3 (ipykernel)",
   "language": "python",
   "name": "python3"
  },
  "language_info": {
   "codemirror_mode": {
    "name": "ipython",
    "version": 3
   },
   "file_extension": ".py",
   "mimetype": "text/x-python",
   "name": "python",
   "nbconvert_exporter": "python",
   "pygments_lexer": "ipython3",
   "version": "3.8.8"
  }
 },
 "nbformat": 4,
 "nbformat_minor": 2
}
